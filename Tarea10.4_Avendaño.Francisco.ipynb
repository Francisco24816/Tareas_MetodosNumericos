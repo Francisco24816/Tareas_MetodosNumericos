{
 "cells": [
  {
   "cell_type": "markdown",
   "metadata": {},
   "source": [
    "Considere la función $y_{\\theta}(x) = (\\theta x)^2 + 50\\theta x$.\n",
    "\n",
    "Generamos datos ficticios con el siguiente código:"
   ]
  },
  {
   "cell_type": "code",
   "execution_count": 13,
   "metadata": {},
   "outputs": [
    {
     "name": "stdout",
     "output_type": "stream",
     "text": [
      "[ 0.          0.34482759  0.68965517  1.03448276  1.37931034  1.72413793\n",
      "  2.06896552  2.4137931   2.75862069  3.10344828  3.44827586  3.79310345\n",
      "  4.13793103  4.48275862  4.82758621  5.17241379  5.51724138  5.86206897\n",
      "  6.20689655  6.55172414  6.89655172  7.24137931  7.5862069   7.93103448\n",
      "  8.27586207  8.62068966  8.96551724  9.31034483  9.65517241 10.        ]\n"
     ]
    }
   ],
   "source": [
    "import numpy as np\n",
    "import jax.numpy as jnp\n",
    "import jax\n",
    "\n",
    "np.random.seed(0)\n",
    "x_data = np.linspace(0, 10, 30)\n",
    "y_true = (x_data/2)**2 + 50*x_data/2\n",
    "y_data = y_true + np.random.normal(0, 0.2, size=x_data.shape)\n",
    "print(x_data)"
   ]
  },
  {
   "cell_type": "markdown",
   "metadata": {},
   "source": [
    "Realice un descenso de gradiente para ajustar el valor de $\\theta$ empezando desde el punto $\\theta = 2$ y de nuevo desde el punto $\\theta = -9$. Explique la diferencia entre los resultados."
   ]
  },
  {
   "cell_type": "code",
   "execution_count": 6,
   "metadata": {},
   "outputs": [],
   "source": [
    "def modelo(x, theta):\n",
    "    return (theta*x)**2 + 50*theta*x"
   ]
  },
  {
   "cell_type": "code",
   "execution_count": 14,
   "metadata": {},
   "outputs": [],
   "source": [
    "def suma_cuadrados(theta, x, y):\n",
    "    predicciones = modelo(x, theta)\n",
    "    return jnp.sum((y - predicciones)**2)\n",
    "\n",
    "\n",
    "\n",
    "\n"
   ]
  },
  {
   "cell_type": "code",
   "execution_count": 15,
   "metadata": {},
   "outputs": [],
   "source": [
    "gradiente = jax.grad(suma_cuadrados)\n",
    "\n",
    "def gradient_descent(theta, x, y, learning_rate=0.01, iterations=1000):\n",
    "    for i in range(iterations):\n",
    "        gradients = gradiente(theta, x, y)\n",
    "        theta = theta - learning_rate * gradients\n",
    "\n",
    "        # Imprimimos el resultado cada 100 iteraciones\n",
    "        if i % 100 == 0:\n",
    "            loss = suma_cuadrados(theta, x, y)\n",
    "            print(f\"Iteración {i}, Suma cuadrados: {loss}\")\n",
    "    return theta"
   ]
  },
  {
   "cell_type": "code",
   "execution_count": null,
   "metadata": {},
   "outputs": [
    {
     "name": "stdout",
     "output_type": "stream",
     "text": [
      "Iteración 0, Suma cuadrados: 1.7543016656558467e+38\n",
      "Iteración 100, Suma cuadrados: nan\n",
      "Iteración 200, Suma cuadrados: nan\n",
      "Iteración 300, Suma cuadrados: nan\n",
      "Iteración 400, Suma cuadrados: nan\n",
      "Iteración 500, Suma cuadrados: nan\n",
      "Iteración 600, Suma cuadrados: nan\n",
      "Iteración 700, Suma cuadrados: nan\n",
      "Iteración 800, Suma cuadrados: nan\n",
      "Iteración 900, Suma cuadrados: nan\n",
      "Parámetros optimizados: nan\n"
     ]
    }
   ],
   "source": [
    "# Parámetros iniciales\n",
    "theta_init = 2.0\n",
    "\n",
    "# Descenso de gradiente\n",
    "theta_opt = gradient_descent(theta_init, x_data, y_data, learning_rate=0.001, iterations=1000)\n",
    "\n",
    "# Parámetros encontrados\n",
    "print(\"Parámetros optimizados:\", theta_opt)"
   ]
  }
 ],
 "metadata": {
  "kernelspec": {
   "display_name": "base",
   "language": "python",
   "name": "python3"
  },
  "language_info": {
   "codemirror_mode": {
    "name": "ipython",
    "version": 3
   },
   "file_extension": ".py",
   "mimetype": "text/x-python",
   "name": "python",
   "nbconvert_exporter": "python",
   "pygments_lexer": "ipython3",
   "version": "3.9.12"
  }
 },
 "nbformat": 4,
 "nbformat_minor": 2
}
