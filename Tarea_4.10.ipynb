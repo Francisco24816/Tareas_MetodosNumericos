{
 "cells": [
  {
   "cell_type": "markdown",
   "metadata": {},
   "source": [
    "Calcule la entropía de Shannon de la distribución binomial para un número grande de eventos $n$. "
   ]
  },
  {
   "cell_type": "markdown",
   "metadata": {},
   "source": [
    "Dado lo visto en clases, utilizando el teorema central de limite, sabemos que para un numero grande de eventos n, esto quiere decir $n \\rightarrow \\infty$, la distribución binomial se puede aproximar a la distribución gaussiana.\n",
    "\n",
    "\n",
    "\n"
   ]
  },
  {
   "cell_type": "markdown",
   "metadata": {},
   "source": [
    "Por lo tanto debemos calcular la entropia de shannon para la distribución gaussiana.\n",
    "\n",
    "$$\n",
    "H = -\\int_{-\\infty}^{\\infty} dx\\, \\rho(x) \\log \\rho(x)\\, \\quad donde, \\quad \\rho(x) = \\frac{1}{\\sqrt{2\\pi}\\sigma} e^{-\\frac{(x - \\mu)^2}{2\\sigma^2}}\n",
    "$$"
   ]
  },
  {
   "cell_type": "markdown",
   "metadata": {},
   "source": [
    "Desarrollo,\n",
    "$$\n",
    "-\\int_{-\\infty}^{\\infty} dx\\, \\rho(x) \\log \\rho(x)\\, = -\\int_{-\\infty}^{\\infty} dx\\, \\frac{1}{\\sqrt{2\\pi}\\sigma} e^{-\\frac{(x - \\mu)^2}{2\\sigma^2}} (\\log \\frac{1}{\\sqrt{2\\pi}\\sigma} -\\frac{(x - \\mu)^2}{2\\sigma^2})\\\n",
    "$$\n",
    "\n",
    "luego,\n",
    "\n",
    "$$\n",
    "H = -\\int_{-\\infty}^{\\infty} dx\\, \\frac{1}{\\sqrt{2\\pi}\\sigma} e^{-\\frac{(x - \\mu)^2}{2\\sigma^2}} (-\\dfrac{1}{2}\\log 2\\pi \\sigma^{2} -\\frac{(x - \\mu)^2}{2\\sigma^2})\\ = \\\\\n",
    "\\dfrac{1}{2}\\log 2\\pi \\sigma^{2} \\int_{-\\infty}^{\\infty} dx\\, \\frac{1}{\\sqrt{2\\pi}\\sigma} e^{-\\frac{(x - \\mu)^2}{2\\sigma^2}}  - \\int_{-\\infty}^{\\infty} dx\\, \\frac{1}{\\sqrt{2\\pi}\\sigma} e^{-\\frac{(x - \\mu)^2}{2\\sigma^2}}\\frac{(x - \\mu)^2}{2\\sigma^2}\\\n",
    "$$\n",
    "\n",
    "luego,\n",
    "\n",
    "$$\n",
    "\\dfrac{1}{2}\\log 2\\pi \\sigma^{2} \\cdot 1  + \\dfrac{1}{2\\sigma^2}\\int_{-\\infty}^{\\infty} dx\\, \\frac{1}{\\sqrt{2\\pi}\\sigma} e^{-\\frac{(x - \\mu)^2}{2\\sigma^2}}(x - \\mu)^2\\\n",
    "$$\n",
    "\n",
    "el segundo termino corresponde a la esperanza, por lo tanto,\n",
    "\n",
    "$$\n",
    "H = \\dfrac{1}{2}\\log 2\\pi \\sigma^{2} + \\dfrac{1}{2\\sigma^{2}}\\cdot \\sigma^{2} = \\dfrac{1}{2}\\log 2\\pi \\sigma^{2} + \\dfrac{1}{2}\n",
    "$$"
   ]
  }
 ],
 "metadata": {
  "language_info": {
   "name": "python"
  }
 },
 "nbformat": 4,
 "nbformat_minor": 2
}
