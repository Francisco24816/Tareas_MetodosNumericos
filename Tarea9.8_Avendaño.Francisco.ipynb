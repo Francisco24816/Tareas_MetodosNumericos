{
 "cells": [
  {
   "cell_type": "markdown",
   "metadata": {},
   "source": [
    "Tarea 9.8 Francisco Avendaño\n",
    "\n",
    "En clase vimos cómo ajustar una línea recta a un conjunto de datos cuando el error de todos los datos es el mismo. Repita el ejercicio para los siguientes datos (que tienen todos un error diferente):\n",
    "\n",
    "|$x$|$f(x)$|$\\sigma$|\n",
    "|-|-|-|\n",
    "|$0.1$|$5.71$|$0.2$|\n",
    "|$0.2$|$7.21$|$0.3$|\n",
    "|$0.3$|$8.07$|$0.2$|\n",
    "|$0.4$|$9.73$|$0.4$|\n",
    "|$0.5$|$10.06$|$0.05$|\n",
    "\n",
    "Es decir, reescriba el sistema de ecuaciones a resolver tomando en cuenta que cada error es diferente. Luego resuélvalo.\n",
    "\n",
    "¿Es un buen ajuste?"
   ]
  },
  {
   "cell_type": "markdown",
   "metadata": {},
   "source": [
    "En este caso nuestro ajuste tendra $\\sigma_i$, quedando de esta forma,\n",
    "\\begin{align}\n",
    "\\sum_i \\hat{y}_i w_i = \\sum_i (a_o + a_1 x_i) w_i \\\\\n",
    "\\sum_i \\hat{y}_i x_i w_i = \\sum_i x_i (a_o + a_1 x_i) w_i\n",
    "\\end{align}\n",
    "\n",
    "Donde $w_i$ = $\\dfrac{1}{\\sigma_i^{2}}$\n",
    "\n",
    "Definimos,\n",
    "\n",
    "\\begin{align}\n",
    "\\alpha_1 = \\sum_i x_i w_i\\\\\n",
    "\\alpha_2 = \\sum_i x_i^{2} w_i\\\\\n",
    "\\beta_1 = \\sum_i \\hat{y_i} w_i \\\\\n",
    "\\beta_2 = \\sum_i \\hat{y_i} x_i w_i\n",
    "\\end{align}\n",
    "\n",
    "Por lo tanto,\n",
    "\n",
    "\\begin{align}\n",
    "m_w a_0 + a_1 \\alpha_1 = \\beta_1\\\\\n",
    "a_0 \\alpha_1 + a_1 \\alpha_2 = \\beta_2\n",
    "\\end{align}"
   ]
  },
  {
   "cell_type": "code",
   "execution_count": 1,
   "metadata": {},
   "outputs": [],
   "source": [
    "import numpy as np\n",
    "import matplotlib.pyplot as plt"
   ]
  },
  {
   "cell_type": "code",
   "execution_count": null,
   "metadata": {},
   "outputs": [],
   "source": [
    "\n",
    "#Usamos la función definida en clase\n",
    "def lin_fit(puntos, sigma):\n",
    "    # Pesos\n",
    "    w = 1 / sigma**2\n",
    "    \n",
    "    #Calculamos terminos\n",
    "    alpha1 = sum(w * puntos[:, 0])\n",
    "    alpha2 = sum(w * puntos[:, 0]**2)\n",
    "    beta1 = sum(w * puntos[:, 1])\n",
    "    beta2 = sum(w * puntos[:, 0] * puntos[:, 1])\n",
    "    m_w = sum(w)\n",
    "    \n",
    "    #Determinamos los coeficientes\n",
    "    a0 = (alpha2 * beta1 - alpha1 * beta2) / (m_w * alpha2 - alpha1**2)\n",
    "    a1 = (m_w * beta2 - alpha1 * beta1) / (m_w * alpha2 - alpha1**2)\n",
    "    \n",
    "    return a0, a1\n"
   ]
  },
  {
   "cell_type": "code",
   "execution_count": null,
   "metadata": {},
   "outputs": [],
   "source": [
    "#Definimos los datos\n",
    "x = np.array([0.1, 0.2, 0.3, 0.4, 0.5])       # Valores de x\n",
    "y = np.array([5.71, 7.21, 8.07, 9.73, 10.06]) # Valores de f(x)\n",
    "sigma = np.array([0.2, 0.3, 0.2, 0.4, 0.05])  # Errores\n",
    "\n",
    "#Creamos la matriz con los datos\n",
    "puntos = np.column_stack((x, y))\n",
    "\n",
    "a0, a1 = lin_fit(puntos, sigma)\n"
   ]
  },
  {
   "cell_type": "code",
   "execution_count": 12,
   "metadata": {},
   "outputs": [
    {
     "data": {
      "text/plain": [
       "<ErrorbarContainer object of 3 artists>"
      ]
     },
     "execution_count": 12,
     "metadata": {},
     "output_type": "execute_result"
    },
    {
     "data": {
      "image/png": "[encoded data removed]",
      "text/plain": [
       "<Figure size 432x288 with 1 Axes>"
      ]
     },
     "metadata": {
      "needs_background": "light"
     },
     "output_type": "display_data"
    }
   ],
   "source": [
    "x = np.linspace(0, 0.6, 100)\n",
    "plt.plot(x, a0 + a1*x)\n",
    "plt.errorbar(puntos[:,0], puntos[:,1], yerr=sigma , color='black', linestyle='')"
   ]
  }
 ],
 "metadata": {
  "kernelspec": {
   "display_name": "base",
   "language": "python",
   "name": "python3"
  },
  "language_info": {
   "codemirror_mode": {
    "name": "ipython",
    "version": 3
   },
   "file_extension": ".py",
   "mimetype": "text/x-python",
   "name": "python",
   "nbconvert_exporter": "python",
   "pygments_lexer": "ipython3",
   "version": "3.9.12"
  }
 },
 "nbformat": 4,
 "nbformat_minor": 2
}
