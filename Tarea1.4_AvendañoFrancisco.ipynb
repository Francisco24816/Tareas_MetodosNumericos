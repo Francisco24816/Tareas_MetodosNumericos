{
 "cells": [
  {
   "cell_type": "code",
   "execution_count": 1,
   "metadata": {},
   "outputs": [
    {
     "name": "stdout",
     "output_type": "stream",
     "text": [
      "n = 1\n",
      "El resultado de la sumatoria para n = 1 es 102.42857142857142\n"
     ]
    }
   ],
   "source": [
    "#Definimos las variables#\n",
    "lastvalue_n = int(input(\"n = \")) #Variable correspondiente al ultimo valor de n, el cual se escoge de manera arbitraria\n",
    "lastvalue_m = 100 #Variable correspondiente al ultimo valor de m, en este caso corresponderá a 100\n",
    "\n",
    "firstvalue_n = 0 #Variable correspondiente al primer valor de n, en este caso corresponderá a 0\n",
    "firstvalue_m = 0 #Variable correspondiente al primer valor de m, en este caso corresponderá a 0\n",
    "\n",
    "S = 0 #Definimos S para iniciar la sumatoria\n",
    "\n",
    "#Generamos un ciclo for anidado, debido a que estamos trabajando con doble sumatoria\n",
    "for i in range(firstvalue_m,lastvalue_m+1): #Se genera el bucle en un rango de 0 a 100\n",
    "    for j in range(firstvalue_n,lastvalue_n+1): #Se genera el segundo bucle en un rango de 0 a 50\n",
    "        S = S + (0.3**i)**j #Se lleva a cabo la suma\n",
    "        \n",
    "print(f\"El resultado de la sumatoria para n = {lastvalue_n} es {S}\") #Se imprime el resultado\n"
   ]
  },
  {
   "cell_type": "markdown",
   "metadata": {},
   "source": [
    "# Nota: 70\n",
    "la sumatoria esta mal definida, pero por orden y claridad tienes nota maxima, lo correcto seria:"
   ]
  },
  {
   "cell_type": "code",
   "execution_count": 2,
   "metadata": {},
   "outputs": [
    {
     "name": "stdout",
     "output_type": "stream",
     "text": [
      "1.5698587127158556\n"
     ]
    }
   ],
   "source": [
    "s = 0\n",
    "for n in range(101):\n",
    "    for m in range(n+1):\n",
    "        s = s + 0.3**(n+m)\n",
    "        \n",
    "print(s)"
   ]
  },
  {
   "cell_type": "code",
   "execution_count": null,
   "metadata": {},
   "outputs": [],
   "source": []
  }
 ],
 "metadata": {
  "kernelspec": {
   "display_name": "Python 3 (ipykernel)",
   "language": "python",
   "name": "python3"
  },
  "language_info": {
   "codemirror_mode": {
    "name": "ipython",
    "version": 3
   },
   "file_extension": ".py",
   "mimetype": "text/x-python",
   "name": "python",
   "nbconvert_exporter": "python",
   "pygments_lexer": "ipython3",
   "version": "3.11.3"
  }
 },
 "nbformat": 4,
 "nbformat_minor": 2
}
