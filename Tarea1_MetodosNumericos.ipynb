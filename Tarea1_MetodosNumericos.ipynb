{
 "cells": [
  {
   "cell_type": "code",
   "execution_count": 4,
   "metadata": {},
   "outputs": [
    {
     "name": "stdout",
     "output_type": "stream",
     "text": [
      "El resultado de la sumatoria para n = 2345, es 2446.5668658347\n"
     ]
    }
   ],
   "source": [
    "#Definimos las variables#\n",
    "lastvalue_n = int(input(\"n = \")) #Variable correspondiente al ultimo valor de n, el cual se escoge de manera arbitraria\n",
    "lastvalue_m = 100 #Variable correspondiente al ultimo valor de m, en este caso corresponderá a 100\n",
    "\n",
    "firstvalue_n = 0 #Variable correspondiente al primer valor de n, en este caso corresponderá a 0\n",
    "firstvalue_m = 0 #Variable correspondiente al primer valor de m, en este caso corresponderá a 0\n",
    "\n",
    "S = 0 #Definimos S para iniciar la sumatoria\n",
    "\n",
    "#Generamos un ciclo for anidado, debido a que estamos trabajando con doble sumatoria\n",
    "for i in range(firstvalue_m,lastvalue_m+1): #Se genera el bucle en un rango de 0 a 100\n",
    "    for j in range(firstvalue_n,lastvalue_n+1): #Se genera el segundo bucle en un rango de 0 a 50\n",
    "        S = S + (0.3**i)**j #Se lleva a cabo la suma\n",
    "        \n",
    "print(f\"El resultado de la sumatoria para n = {lastvalue_n}, es {S}\") #Se imprime el resultado\n"
   ]
  }
 ],
 "metadata": {
  "kernelspec": {
   "display_name": "base",
   "language": "python",
   "name": "python3"
  },
  "language_info": {
   "codemirror_mode": {
    "name": "ipython",
    "version": 3
   },
   "file_extension": ".py",
   "mimetype": "text/x-python",
   "name": "python",
   "nbconvert_exporter": "python",
   "pygments_lexer": "ipython3",
   "version": "3.9.12"
  }
 },
 "nbformat": 4,
 "nbformat_minor": 2
}
