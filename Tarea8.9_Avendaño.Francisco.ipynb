{
 "cells": [
  {
   "cell_type": "code",
   "execution_count": 2,
   "metadata": {},
   "outputs": [],
   "source": [
    "import numpy as np\n",
    "import matplotlib.pyplot as plt"
   ]
  },
  {
   "cell_type": "code",
   "execution_count": 57,
   "metadata": {},
   "outputs": [],
   "source": [
    "import numpy as np\n",
    "\n",
    "def rk4_step(f, fi, t, w, h):\n",
    "    k1 = h * fi\n",
    "    k2 = h * f(t + h / 2, w + k1 / 2)\n",
    "    k3 = h * f(t + h / 2, w + k2 / 2)\n",
    "    k4 = h * f(t + h, w + k3)\n",
    "    return (k1 + 2 * k2 + 2 * k3 + k4) / 6\n",
    "\n",
    "def apc4(f, a, b, yo, N, p):\n",
    "    h = (b - a) / N\n",
    "    w = yo\n",
    "    t = a\n",
    "\n",
    "    ws = np.zeros(N + 1)\n",
    "    ts = np.zeros(N + 1)\n",
    "    fi = fim1 = fim2 = fim3 = 0\n",
    "\n",
    "    for i in range(N):\n",
    "        ts[i] = t\n",
    "        ws[i] = w\n",
    "        fim3, fim2, fim1 = fim2, fim1, fi\n",
    "        fi = f(t, w)\n",
    "        \n",
    "        if i < 3:\n",
    "            \n",
    "            w += rk4_step(f, fi, t, w, h)\n",
    "        else:\n",
    "            # Predictor Adams-Bashforth de 4 pasos\n",
    "            w = ws[i] + h * (55 * fi - 59 * fim1 + 37 * fim2 - 9 * fim3) / 24\n",
    "            \n",
    "            # Corrector Adams-Moulton de 3 pasos, iterado p veces\n",
    "            \n",
    "            for _ in range(p):\n",
    "                \n",
    "                w = ws[i] + h * (9 * f(t + h, w) + 19 * fi - 5 * fim1 + fim2) / 24\n",
    "                \n",
    "            \n",
    "        \n",
    "        t += h\n",
    "\n",
    "    ws[N] = w\n",
    "    ts[N] = t\n",
    "\n",
    "    return ts, ws\n",
    "\n",
    "\n",
    "def f(t, y):\n",
    "    return y / t - (y / t) ** 2\n",
    "\n",
    "\n",
    "def exacta(t):\n",
    "    return t / (1 + np.log(t))\n",
    "\n",
    "# Parámetros del problema\n",
    "a = 1\n",
    "b = 2\n",
    "yo = 1\n",
    "N = 10\n",
    "\n",
    "\n",
    "\n",
    "\n"
   ]
  },
  {
   "cell_type": "code",
   "execution_count": 58,
   "metadata": {},
   "outputs": [
    {
     "name": "stdout",
     "output_type": "stream",
     "text": [
      "(array([1. , 1.1, 1.2, 1.3, 1.4, 1.5, 1.6, 1.7, 1.8, 1.9, 2. ]), array([1.        , 1.0042815 , 1.014952  , 1.02981334, 1.04752546,\n",
      "       1.06724992, 1.08841816, 1.1106394 , 1.13363728, 1.15721181,\n",
      "       1.1812154 ])) (array([1. , 1.1, 1.2, 1.3, 1.4, 1.5, 1.6, 1.7, 1.8, 1.9, 2. ]), array([1.        , 1.0042815 , 1.014952  , 1.02981334, 1.04752542,\n",
      "       1.06724987, 1.08841811, 1.11063935, 1.13363724, 1.15721176,\n",
      "       1.18121535])) (array([1. , 1.1, 1.2, 1.3, 1.4, 1.5, 1.6, 1.7, 1.8, 1.9, 2. ]), array([1.        , 1.0042815 , 1.014952  , 1.02981334, 1.04752542,\n",
      "       1.06724987, 1.08841811, 1.11063935, 1.13363724, 1.15721177,\n",
      "       1.18121536]))\n"
     ]
    },
    {
     "data": {
      "image/png": "[encoded data removed]",
      "text/plain": [
       "<Figure size 432x288 with 1 Axes>"
      ]
     },
     "metadata": {
      "needs_background": "light"
     },
     "output_type": "display_data"
    }
   ],
   "source": [
    "\n",
    "sol_apc2 = apc4(f, a, b, yo, 10, 2)\n",
    "sol_apc3 = apc4(f, a, b, yo, 10, 3)\n",
    "sol_apc4 = apc4(f, a, b, yo, 10, 4)\n",
    "plt.plot(sol_apc2[0], sol_apc2[1] - exacta(sol_apc2[0]), label='p=2')\n",
    "plt.plot(sol_apc3[0], sol_apc3[1] - exacta(sol_apc3[0]), label='p=3')\n",
    "plt.plot(sol_apc4[0], sol_apc4[1] - exacta(sol_apc4[0]), label='p=4')\n",
    "plt.legend()\n",
    "print(sol_apc2, sol_apc3, sol_apc4)\n",
    "#Debe haber error en la iteración, debido a que dan el mismo resultado"
   ]
  }
 ],
 "metadata": {
  "kernelspec": {
   "display_name": "base",
   "language": "python",
   "name": "python3"
  },
  "language_info": {
   "codemirror_mode": {
    "name": "ipython",
    "version": 3
   },
   "file_extension": ".py",
   "mimetype": "text/x-python",
   "name": "python",
   "nbconvert_exporter": "python",
   "pygments_lexer": "ipython3",
   "version": "3.9.12"
  }
 },
 "nbformat": 4,
 "nbformat_minor": 2
}
