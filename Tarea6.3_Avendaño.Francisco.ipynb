{
 "cells": [
  {
   "cell_type": "code",
   "execution_count": 9,
   "metadata": {},
   "outputs": [
    {
     "name": "stdout",
     "output_type": "stream",
     "text": [
      "Valor de f junto con los valores de los nodos (4.152844874691805, [2, 0.6931471805599453, 4, 4, 0.5403023058681398])\n",
      "df/dx(2,1) = 4.5\n"
     ]
    }
   ],
   "source": [
    "import numpy as np\n",
    "\n",
    "# Definimos plus y times\n",
    "def plus(a, b):\n",
    "    return a + b\n",
    "\n",
    "def times(a, b):\n",
    "    return a * b\n",
    "\n",
    "# Defino f(x,y) \n",
    "def f(x, y):\n",
    "    n1 = times(x, y)             \n",
    "    n2 = np.log(n1)              \n",
    "    n3 = times(x, x)             \n",
    "    n4 = times(n3, y)            \n",
    "    n5 = np.cos(y)               \n",
    "    return plus(plus(n2, n4), -n5), [n1, n2, n3, n4, n5]   \n",
    "\n",
    "# Defino la derivida con respecto a x de f(x,y)\n",
    "def df_dx(x, y):\n",
    "    \n",
    "    dn1_dx = plus(times(1, y), times(x, 0))  \n",
    "    dn2_dx = times(1 / times(x, y), dn1_dx)  \n",
    "    dn3_dx = plus(times(1, x), times(x, 1))  \n",
    "    dn4_dx = plus(times(dn3_dx, y), times(times(x, x), 0))  \n",
    "    dn5_dx = 0  \n",
    "    \n",
    "    return plus(dn2_dx, plus(dn4_dx, -dn5_dx))\n",
    "   \n",
    "\n",
    "#Calculamos el valor de todas las variables intermedias de f(x,y)\n",
    "\n",
    "f_0 = f(2,1)\n",
    "print(f\"Valor de f junto con los valores de los nodos\", f_0)\n",
    "\n",
    "\n",
    "#Calculamos derivada para x=2 y y=1\n",
    "\n",
    "dfdx_0 = df_dx(2,1)\n",
    "print(f\"df/dx(2,1) =\", dfdx_value)\n"
   ]
  }
 ],
 "metadata": {
  "kernelspec": {
   "display_name": "base",
   "language": "python",
   "name": "python3"
  },
  "language_info": {
   "codemirror_mode": {
    "name": "ipython",
    "version": 3
   },
   "file_extension": ".py",
   "mimetype": "text/x-python",
   "name": "python",
   "nbconvert_exporter": "python",
   "pygments_lexer": "ipython3",
   "version": "3.9.12"
  }
 },
 "nbformat": 4,
 "nbformat_minor": 2
}
